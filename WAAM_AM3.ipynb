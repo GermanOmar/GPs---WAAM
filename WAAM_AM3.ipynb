{
  "nbformat": 4,
  "nbformat_minor": 0,
  "metadata": {
    "colab": {
      "name": " WAAM-AM3.ipynb",
      "provenance": [],
      "collapsed_sections": [],
      "toc_visible": true,
      "mount_file_id": "https://github.com/GermanOmar/ANN1/blob/main/NN1_L2.ipynb",
      "authorship_tag": "ABX9TyM/qLg4a2kJDpqkypOf58n9",
      "include_colab_link": true
    },
    "kernelspec": {
      "name": "python3",
      "display_name": "Python 3"
    },
    "accelerator": "GPU"
  },
  "cells": [
    {
      "cell_type": "markdown",
      "metadata": {
        "id": "view-in-github",
        "colab_type": "text"
      },
      "source": [
        "<a href=\"https://colab.research.google.com/github/GermanOmar/GPs---WAAM/blob/master/WAAM_AM3.ipynb\" target=\"_parent\"><img src=\"https://colab.research.google.com/assets/colab-badge.svg\" alt=\"Open In Colab\"/></a>"
      ]
    },
    {
      "cell_type": "markdown",
      "metadata": {
        "id": "rqI9VDT0RdWk"
      },
      "source": [
        "# Layer geometry prediction in wire arc additive manufacturing: A supervised machine learning approach \n"
      ]
    },
    {
      "cell_type": "markdown",
      "metadata": {
        "id": "2OOvQQeg7d0g"
      },
      "source": [
        "<a href=\"https://ibb.co/5Rvr5t7\"><img src=\"https://i.ibb.co/kS04hkd/Fig1-4.png\" WIDTH=\"500\" HEIGHT=\"300\"  border=\"0\"></a>"
      ]
    },
    {
      "cell_type": "markdown",
      "metadata": {
        "id": "3-T6Z2bdRvSm"
      },
      "source": [
        " Libraries"
      ]
    },
    {
      "cell_type": "code",
      "metadata": {
        "id": "ltCb1Iw6Raez"
      },
      "source": [
        "import numpy as np\n",
        "import pandas as pd\n",
        "from matplotlib import pyplot as plt\n",
        "from sklearn import preprocessing"
      ],
      "execution_count": null,
      "outputs": []
    },
    {
      "cell_type": "markdown",
      "metadata": {
        "id": "1Mbfb5c9yu5p"
      },
      "source": [
        " Upload database:"
      ]
    },
    {
      "cell_type": "code",
      "metadata": {
        "colab": {
          "base_uri": "https://localhost:8080/"
        },
        "id": "_V3jfdhPsEKW",
        "outputId": "a0ca7bcd-5670-451a-f490-f0e02e9648bc"
      },
      "source": [
        "!git clone https://github.com/GermanOmar/GPs---WAAM"
      ],
      "execution_count": null,
      "outputs": [
        {
          "output_type": "stream",
          "text": [
            "fatal: destination path 'GPs---WAAM' already exists and is not an empty directory.\n"
          ],
          "name": "stdout"
        }
      ]
    },
    {
      "cell_type": "code",
      "metadata": {
        "colab": {
          "base_uri": "https://localhost:8080/",
          "height": 284
        },
        "id": "Yx-ovik8xxJx",
        "outputId": "ac8d837c-95de-4301-8ac5-14e05640c349"
      },
      "source": [
        "#Experimental data\n",
        "data = pd.read_table('df3.txt') \n",
        "data.describe()\n",
        "\n"
      ],
      "execution_count": null,
      "outputs": [
        {
          "output_type": "execute_result",
          "data": {
            "text/html": [
              "<div>\n",
              "<style scoped>\n",
              "    .dataframe tbody tr th:only-of-type {\n",
              "        vertical-align: middle;\n",
              "    }\n",
              "\n",
              "    .dataframe tbody tr th {\n",
              "        vertical-align: top;\n",
              "    }\n",
              "\n",
              "    .dataframe thead th {\n",
              "        text-align: right;\n",
              "    }\n",
              "</style>\n",
              "<table border=\"1\" class=\"dataframe\">\n",
              "  <thead>\n",
              "    <tr style=\"text-align: right;\">\n",
              "      <th></th>\n",
              "      <th>Q*</th>\n",
              "      <th>PGFR</th>\n",
              "      <th>LH</th>\n",
              "      <th>WW</th>\n",
              "    </tr>\n",
              "  </thead>\n",
              "  <tbody>\n",
              "    <tr>\n",
              "      <th>count</th>\n",
              "      <td>25.00</td>\n",
              "      <td>25.00</td>\n",
              "      <td>25.00</td>\n",
              "      <td>25.00</td>\n",
              "    </tr>\n",
              "    <tr>\n",
              "      <th>mean</th>\n",
              "      <td>1.42</td>\n",
              "      <td>2.21</td>\n",
              "      <td>1.65</td>\n",
              "      <td>7.45</td>\n",
              "    </tr>\n",
              "    <tr>\n",
              "      <th>std</th>\n",
              "      <td>0.35</td>\n",
              "      <td>1.49</td>\n",
              "      <td>0.22</td>\n",
              "      <td>0.99</td>\n",
              "    </tr>\n",
              "    <tr>\n",
              "      <th>min</th>\n",
              "      <td>0.89</td>\n",
              "      <td>0.80</td>\n",
              "      <td>1.29</td>\n",
              "      <td>5.80</td>\n",
              "    </tr>\n",
              "    <tr>\n",
              "      <th>25%</th>\n",
              "      <td>1.21</td>\n",
              "      <td>0.80</td>\n",
              "      <td>1.51</td>\n",
              "      <td>6.70</td>\n",
              "    </tr>\n",
              "    <tr>\n",
              "      <th>50%</th>\n",
              "      <td>1.34</td>\n",
              "      <td>1.70</td>\n",
              "      <td>1.62</td>\n",
              "      <td>7.35</td>\n",
              "    </tr>\n",
              "    <tr>\n",
              "      <th>75%</th>\n",
              "      <td>1.55</td>\n",
              "      <td>3.16</td>\n",
              "      <td>1.81</td>\n",
              "      <td>8.00</td>\n",
              "    </tr>\n",
              "    <tr>\n",
              "      <th>max</th>\n",
              "      <td>2.30</td>\n",
              "      <td>5.00</td>\n",
              "      <td>2.07</td>\n",
              "      <td>9.50</td>\n",
              "    </tr>\n",
              "  </tbody>\n",
              "</table>\n",
              "</div>"
            ],
            "text/plain": [
              "         Q*  PGFR    LH    WW\n",
              "count 25.00 25.00 25.00 25.00\n",
              "mean   1.42  2.21  1.65  7.45\n",
              "std    0.35  1.49  0.22  0.99\n",
              "min    0.89  0.80  1.29  5.80\n",
              "25%    1.21  0.80  1.51  6.70\n",
              "50%    1.34  1.70  1.62  7.35\n",
              "75%    1.55  3.16  1.81  8.00\n",
              "max    2.30  5.00  2.07  9.50"
            ]
          },
          "metadata": {
            "tags": []
          },
          "execution_count": 13
        }
      ]
    },
    {
      "cell_type": "markdown",
      "metadata": {
        "id": "a8Tc7T1_ibFN"
      },
      "source": [
        "<a href=\"https://ibb.co/QrLn5c3\"><img src=\"https://i.ibb.co/XS1pw4r/FIG1-geo.png\" WIDTH=\"500\" HEIGHT=\"325\"  border=\"0\"></a>"
      ]
    },
    {
      "cell_type": "markdown",
      "metadata": {
        "id": "lFVoj9tfSQJJ"
      },
      "source": [
        "\r\n",
        "Setting inputs - output:"
      ]
    },
    {
      "cell_type": "code",
      "metadata": {
        "colab": {
          "base_uri": "https://localhost:8080/",
          "height": 418
        },
        "id": "j4RPoTbW_VVs",
        "outputId": "65838a84-eeca-48f9-8aa3-183c8a7f7f4c"
      },
      "source": [
        "fields = ['Q*','PGFR','LH','WW']\n",
        "import seaborn as sns\n",
        "sns.set()\n",
        "\n",
        "fig = plt.figure()\n",
        "fig.set_size_inches((15,8))\n",
        "for i, field in enumerate(fields):\n",
        "  plt.subplot(3, 3, i + 1)\n",
        "  plt.plot(data[field], data['WW'], 'b*')\n",
        "  plt.xlabel(field)\n",
        "  plt.ylabel('WW')\n",
        "\n",
        "plt.tight_layout()\n",
        "\n",
        "X=data[['Q*','PGFR']]\n",
        "Y=data['WW'][:,None]\n",
        "Z=data['LH'][:,None]\n",
        "\n",
        "\n",
        "#fig.tight_layout()"
      ],
      "execution_count": null,
      "outputs": [
        {
          "output_type": "display_data",
          "data": {
            "image/png": "[encoded data removed]",
            "text/plain": [
              "<Figure size 1080x576 with 4 Axes>"
            ]
          },
          "metadata": {
            "tags": []
          }
        }
      ]
    },
    {
      "cell_type": "code",
      "metadata": {
        "colab": {
          "base_uri": "https://localhost:8080/",
          "height": 901
        },
        "id": "SVvdbKrdZIj5",
        "outputId": "82cc34c0-9256-42f1-d719-8557e84cb743"
      },
      "source": [
        "from pandas.plotting import scatter_matrix\r\n",
        "#DISPLAY MATRIX - identificar correlacion entre variables\r\n",
        "scatter_matrix(data, alpha=0.8, marker='o', figsize = (12,12))\r\n",
        "warnings.filterwarnings(\"ignore\")"
      ],
      "execution_count": null,
      "outputs": [
        {
          "output_type": "error",
          "ename": "NameError",
          "evalue": "ignored",
          "traceback": [
            "\u001b[0;31m---------------------------------------------------------------------------\u001b[0m",
            "\u001b[0;31mNameError\u001b[0m                                 Traceback (most recent call last)",
            "\u001b[0;32m<ipython-input-16-de187647af05>\u001b[0m in \u001b[0;36m<module>\u001b[0;34m()\u001b[0m\n\u001b[1;32m      2\u001b[0m \u001b[0;31m#DISPLAY MATRIX - identificar correlacion entre variables\u001b[0m\u001b[0;34m\u001b[0m\u001b[0;34m\u001b[0m\u001b[0;34m\u001b[0m\u001b[0m\n\u001b[1;32m      3\u001b[0m \u001b[0mscatter_matrix\u001b[0m\u001b[0;34m(\u001b[0m\u001b[0mdata\u001b[0m\u001b[0;34m,\u001b[0m \u001b[0malpha\u001b[0m\u001b[0;34m=\u001b[0m\u001b[0;36m0.8\u001b[0m\u001b[0;34m,\u001b[0m \u001b[0mmarker\u001b[0m\u001b[0;34m=\u001b[0m\u001b[0;34m'o'\u001b[0m\u001b[0;34m,\u001b[0m \u001b[0mfigsize\u001b[0m \u001b[0;34m=\u001b[0m \u001b[0;34m(\u001b[0m\u001b[0;36m12\u001b[0m\u001b[0;34m,\u001b[0m\u001b[0;36m12\u001b[0m\u001b[0;34m)\u001b[0m\u001b[0;34m)\u001b[0m\u001b[0;34m\u001b[0m\u001b[0;34m\u001b[0m\u001b[0m\n\u001b[0;32m----> 4\u001b[0;31m \u001b[0mwarnings\u001b[0m\u001b[0;34m.\u001b[0m\u001b[0mfilterwarnings\u001b[0m\u001b[0;34m(\u001b[0m\u001b[0;34m\"ignore\"\u001b[0m\u001b[0;34m)\u001b[0m\u001b[0;34m\u001b[0m\u001b[0;34m\u001b[0m\u001b[0m\n\u001b[0m",
            "\u001b[0;31mNameError\u001b[0m: name 'warnings' is not defined"
          ]
        },
        {
          "output_type": "display_data",
          "data": {
            "image/png": "[encoded data removed]",
            "text/plain": [
              "<Figure size 864x864 with 16 Axes>"
            ]
          },
          "metadata": {
            "tags": []
          }
        }
      ]
    },
    {
      "cell_type": "markdown",
      "metadata": {
        "id": "7o8zckSzFI7O"
      },
      "source": [
        "#Wall width prediction"
      ]
    },
    {
      "cell_type": "code",
      "metadata": {
        "id": "N9C38QmsAXm-"
      },
      "source": [
        "def normalize(X, X_mu, X_std):\r\n",
        "  return (X - X_mu)/X_std\r\n",
        "\r\n",
        "def denormalize(Xn, X_mu, X_std):\r\n",
        "  return Xn*X_std + X_mu\r\n",
        "\r\n",
        "X_std = X.std(0)\r\n",
        "X_mu = X.mean(0)\r\n",
        "Xn = normalize(X, X_mu, X_std)\r\n",
        "\r\n",
        "Y_std = Y.std(0)\r\n",
        "Y_mu = Y.mean(0)\r\n",
        "Yn = normalize(Y, Y_mu, Y_std)"
      ],
      "execution_count": null,
      "outputs": []
    },
    {
      "cell_type": "markdown",
      "metadata": {
        "id": "Q6pAiesfTDDU"
      },
      "source": [
        " Split data"
      ]
    },
    {
      "cell_type": "code",
      "metadata": {
        "id": "HI3IlTeHTF_Z",
        "colab": {
          "base_uri": "https://localhost:8080/"
        },
        "outputId": "b6984d95-d234-4239-d638-6f9096aeec28"
      },
      "source": [
        "from sklearn.model_selection import train_test_split\n",
        "\n",
        "X_train, X_test, y_train, y_test = train_test_split(X, Y, test_size=0.22, random_state=32)\n",
        "print('training samples:', X_train.shape[0],  ' test samples:', X_test.shape[0])"
      ],
      "execution_count": null,
      "outputs": [
        {
          "output_type": "stream",
          "text": [
            "training samples: 19  test samples: 6\n"
          ],
          "name": "stdout"
        }
      ]
    },
    {
      "cell_type": "code",
      "metadata": {
        "colab": {
          "base_uri": "https://localhost:8080/"
        },
        "id": "qYvkcJWoAwaD",
        "outputId": "0ed0c149-be42-4e5f-b86a-9af40bd94331"
      },
      "source": [
        "pip install lazypredict"
      ],
      "execution_count": null,
      "outputs": [
        {
          "output_type": "stream",
          "text": [
            "Requirement already satisfied: lazypredict in /usr/local/lib/python3.6/dist-packages (0.2.7)\n",
            "Requirement already satisfied: Click>=7.0 in /usr/local/lib/python3.6/dist-packages (from lazypredict) (7.1.2)\n"
          ],
          "name": "stdout"
        }
      ]
    },
    {
      "cell_type": "code",
      "metadata": {
        "id": "IsDIxZwZAnYx"
      },
      "source": [
        "from lazypredict.Supervised import LazyRegressor\r\n",
        "from sklearn import datasets\r\n",
        "from sklearn.utils import shuffle\r\n",
        "import numpy as np"
      ],
      "execution_count": null,
      "outputs": []
    },
    {
      "cell_type": "markdown",
      "metadata": {
        "id": "7Zk7lMoGhdFO"
      },
      "source": [
        "#Conclusions:"
      ]
    },
    {
      "cell_type": "code",
      "metadata": {
        "id": "7_M_Lua9hfa7",
        "colab": {
          "base_uri": "https://localhost:8080/"
        },
        "outputId": "c1d439d3-2300-4ac2-8464-24047cab4a4d"
      },
      "source": [
        "from sklearn.metrics import mean_absolute_error as MAE\r\n",
        "reg = LazyRegressor(verbose=0,ignore_warnings=False, custom_metric=None)\r\n",
        "models,predictions = reg.fit(X_train, X_test, y_train, y_test)\r\n",
        "\r\n",
        "print(models)"
      ],
      "execution_count": null,
      "outputs": [
        {
          "output_type": "stream",
          "text": [
            "100%|██████████| 39/39 [00:00<00:00, 50.86it/s]"
          ],
          "name": "stderr"
        },
        {
          "output_type": "stream",
          "text": [
            "StackingRegressor model failed to execute\n",
            "__init__() missing 1 required positional argument: 'estimators'\n",
            "[01:28:17] WARNING: /workspace/src/objective/regression_obj.cu:152: reg:linear is now deprecated in favor of reg:squarederror.\n",
            "                               R-Squared  RMSE  Time Taken\n",
            "Model                                                     \n",
            "SGDRegressor                        0.86  0.27        0.01\n",
            "LinearSVR                           0.84  0.29        0.01\n",
            "ElasticNetCV                        0.74  0.37        0.04\n",
            "Ridge                               0.74  0.37        0.01\n",
            "RidgeCV                             0.74  0.37        0.01\n",
            "BayesianRidge                       0.74  0.37        0.01\n",
            "LassoCV                             0.74  0.37        0.07\n",
            "Lars                                0.74  0.37        0.01\n",
            "OrthogonalMatchingPursuitCV         0.74  0.37        0.01\n",
            "LinearRegression                    0.74  0.37        0.01\n",
            "LassoLarsIC                         0.74  0.37        0.01\n",
            "TransformedTargetRegressor          0.74  0.37        0.01\n",
            "LassoLarsCV                         0.74  0.37        0.01\n",
            "LarsCV                              0.74  0.37        0.02\n",
            "RANSACRegressor                     0.74  0.37        0.01\n",
            "HuberRegressor                      0.73  0.38        0.01\n",
            "AdaBoostRegressor                   0.72  0.38        0.06\n",
            "XGBRegressor                        0.72  0.39        0.02\n",
            "PassiveAggressiveRegressor          0.71  0.39        0.01\n",
            "GradientBoostingRegressor           0.68  0.41        0.02\n",
            "ExtraTreesRegressor                 0.67  0.42        0.08\n",
            "OrthogonalMatchingPursuit           0.65  0.43        0.01\n",
            "NuSVR                               0.57  0.47        0.01\n",
            "SVR                                 0.57  0.48        0.01\n",
            "KNeighborsRegressor                 0.47  0.53        0.01\n",
            "RandomForestRegressor               0.44  0.55        0.12\n",
            "BaggingRegressor                    0.36  0.58        0.02\n",
            "DecisionTreeRegressor               0.36  0.58        0.01\n",
            "ElasticNet                         -0.06  0.75        0.01\n",
            "ExtraTreeRegressor                 -0.18  0.79        0.01\n",
            "LGBMRegressor                      -0.58  0.91        0.01\n",
            "Lasso                              -0.58  0.91        0.01\n",
            "DummyRegressor                     -0.58  0.91        0.01\n",
            "LassoLars                          -0.58  0.91        0.01\n",
            "HistGradientBoostingRegressor      -0.58  0.91        0.03\n",
            "GaussianProcessRegressor           -0.64  0.93        0.01\n",
            "MLPRegressor                      -11.21  2.54        0.08\n",
            "KernelRidge                      -100.20  7.32        0.02\n"
          ],
          "name": "stdout"
        },
        {
          "output_type": "stream",
          "text": [
            "\n"
          ],
          "name": "stderr"
        }
      ]
    },
    {
      "cell_type": "markdown",
      "metadata": {
        "id": "LpnUa0lTnxHF"
      },
      "source": [
        "## Gradien boosting regressor"
      ]
    },
    {
      "cell_type": "code",
      "metadata": {
        "id": "ixYdrssxn0XQ"
      },
      "source": [
        "from sklearn.ensemble import GradientBoostingRegressor\r\n",
        "#HYPERPARAMETERS\r\n",
        "\r\n",
        "params = {'n_estimators': 3000, 'max_depth': 40, 'min_samples_split': 6, 'max_leaf_nodes': 20,\r\n",
        "          'learning_rate': 0.01, 'random_state': 32,'loss': 'ls'}\r\n",
        "#KERNEL\r\n",
        "model = GradientBoostingRegressor(**params)\r\n",
        "#TRAIN\r\n",
        "model.fit(X_train,y_train)\r\n",
        "\r\n",
        "#TESTING\r\n",
        "y_star_train = model.predict(X_train)\r\n",
        "#y_star_val = model1.predict(X_val)\r\n",
        "y_pred = model.predict(X_test)\r\n",
        "\r\n",
        "#Plots\r\n",
        "plt.figure()\r\n",
        "plt.plot(y_train, y_star_train, 'b.')\r\n",
        "plt.plot([y_star_train.min(), y_star_train.max()], [y_star_train.min(), y_star_train.max()], 'k--')\r\n",
        "plt.ylabel('$y^*_{train}$')\r\n",
        "plt.xlabel('$y_{train}$')\r\n",
        "plt.title('Gradient boosting regressor')\r\n",
        "plt.figure()\r\n",
        "plt.plot(y_test, y_pred, 'r*')\r\n",
        "plt.plot([y_pred.min(), y_pred.max()], [y_pred.min(), y_pred.max()], 'k--')\r\n",
        "plt.ylabel('$y^*_{test}$')\r\n",
        "plt.xlabel('$y_{test}$')\r\n",
        "plt.title('Gradient boosting regressor') "
      ],
      "execution_count": null,
      "outputs": []
    },
    {
      "cell_type": "code",
      "metadata": {
        "id": "bkRiXKS_oXg0"
      },
      "source": [
        "from sklearn.metrics import mean_squared_error as MSE\r\n",
        "MSE_test = MSE(y_test, y_pred)\r\n",
        "MSE_train = MSE(y_train, y_star_train)\r\n",
        " \r\n",
        "print(\"-Gradient boosting regressor-\")\r\n",
        "print(\"-----------------------------\")\r\n",
        "print('MSE train:', MSE_train)\r\n",
        "print('MSE test:', MSE_test)\r\n",
        "print(\"MSE train < MSE test?\", MSE_train < MSE_test)\r\n",
        "print()\r\n",
        "\r\n",
        "from sklearn.metrics import r2_score\r\n",
        "from sklearn.metrics import mean_absolute_error as MAE \r\n",
        "R2_train=r2_score(y_train, y_star_train)\r\n",
        "print('R2_train: ',R2_train)\r\n",
        "#METRICS: R2, RMSE, MAE\r\n",
        "R2=r2_score(y_test, y_pred)\r\n",
        "print('R2: ',R2)\r\n",
        "RMSE = np.sqrt(MSE_test)\r\n",
        "print(\"RMSE: \", RMSE)\r\n",
        "MAE = MAE(y_test, y_pred)\r\n",
        "print(\"MAE: \", MAE)\r\n",
        "IM=np.sqrt(((1-R2)**2) + (RMSE**2) + (MAE**2) )\r\n",
        "print(\"IM: \", IM)\r\n",
        "print()"
      ],
      "execution_count": null,
      "outputs": []
    },
    {
      "cell_type": "markdown",
      "metadata": {
        "id": "NL8FawXuyV0d"
      },
      "source": [
        "#GBR "
      ]
    },
    {
      "cell_type": "code",
      "metadata": {
        "colab": {
          "base_uri": "https://localhost:8080/"
        },
        "id": "cGJU9U3RouUl",
        "outputId": "1f2635b9-8705-461f-87e3-bbb0dbca01dc"
      },
      "source": [
        "from sklearn.ensemble import GradientBoostingRegressor\r\n",
        "#KERNEL\r\n",
        "#GBR=GradientBoostingRegressor(n_estimators=100, random_state=0)\r\n",
        "GBR=GradientBoostingRegressor(n_estimators=100, random_state=32, learning_rate=0.1, )\r\n",
        "\r\n",
        "#START TRAINING\r\n",
        "GBR.fit(X_train,y_train)\r\n",
        "#PREDICTION\r\n",
        "y_pred=GBR.predict(X_test)\r\n",
        "\r\n",
        "#EVAL\r\n",
        "from sklearn.metrics import mean_squared_error as MSE\r\n",
        "MSE_test = MSE(y_test, y_pred)\r\n",
        "\r\n",
        " \r\n",
        "print(\"-Gradient boosting regressor-\")\r\n",
        "print(\"-----------------------------\")\r\n",
        "\r\n",
        "print('MSE test:', MSE_test)\r\n",
        "\r\n",
        "print()\r\n",
        "\r\n",
        "from sklearn.metrics import r2_score\r\n",
        "from sklearn.metrics import mean_absolute_error as MAE \r\n",
        "\r\n",
        "#METRICS: R2, RMSE, MAE\r\n",
        "R2=r2_score(y_test, y_pred)\r\n",
        "print('R2: ',R2)\r\n",
        "RMSE = np.sqrt(MSE_test)\r\n",
        "print(\"RMSE: \", RMSE)\r\n",
        "MAE = MAE(y_test, y_pred)\r\n",
        "print(\"MAE: \", MAE)\r\n",
        "IM=np.sqrt(((1-R2)**2) + (RMSE**2) + (MAE**2) )\r\n",
        "print(\"IM: \", IM)\r\n",
        "print()\r\n",
        "\r\n",
        "RE=100 * abs(y_test - y_pred) / y_test\r\n",
        "print('Relative error (%): ',RE)\r\n"
      ],
      "execution_count": null,
      "outputs": [
        {
          "output_type": "stream",
          "text": [
            "-Gradient boosting regressor-\n",
            "-----------------------------\n",
            "MSE test: 0.05956374074163193\n",
            "\n",
            "R2:  0.8873794817910321\n",
            "RMSE:  0.24405683916176563\n",
            "MAE:  0.20991875048319356\n",
            "IM:  0.341046922970599\n",
            "\n",
            "Relative error (%):  [[3.96545141e+00 1.08739312e-02 2.14827386e+01 4.04633681e+00\n",
            "  6.45811312e+00 1.78769593e+01]\n",
            " [5.33341788e+00 1.30477246e+00 2.04496167e+01 2.78378861e+00\n",
            "  5.22729881e+00 1.67963930e+01]\n",
            " [3.80230993e+01 3.27441846e+01 4.23843324e+00 2.73867598e+01\n",
            "  2.41849188e+01 9.02541609e+00]\n",
            " [1.11852744e+01 6.93281538e+00 1.60301510e+01 2.61711202e+00\n",
            "  3.78512514e-02 1.21739704e+01]\n",
            " [5.33341788e+00 1.30477246e+00 2.04496167e+01 2.78378861e+00\n",
            "  5.22729881e+00 1.67963930e+01]\n",
            " [2.70688851e+01 2.22089319e+01 4.03445829e+00 1.72766995e+01\n",
            "  1.43289729e+01 3.72605289e-01]]\n"
          ],
          "name": "stdout"
        }
      ]
    },
    {
      "cell_type": "code",
      "metadata": {
        "id": "QN39iBACZmSn"
      },
      "source": [
        "#Plots\r\n",
        "y_hat=GBR.predict(X)\r\n",
        "\r\n",
        "fig = plt.figure()\r\n",
        "fig.set_size_inches((9,6))\r\n",
        "\r\n",
        "plt.plot(Y, y_hat, 'r*')\r\n",
        "plt.plot([y_hat.min(), y_hat.max()], [y_hat.min(), y_hat.max()], 'k--')\r\n",
        "plt.ylabel('$y^*_{test}$')\r\n",
        "plt.xlabel('$y_{test}$')\r\n",
        "plt.title('Gradient boosting regressor') \r\n",
        "\r\n"
      ],
      "execution_count": null,
      "outputs": []
    },
    {
      "cell_type": "markdown",
      "metadata": {
        "id": "IVHzaa4EkSPe"
      },
      "source": [
        "# GPs"
      ]
    },
    {
      "cell_type": "code",
      "metadata": {
        "id": "abeE5km2aix5"
      },
      "source": [
        "from sklearn.gaussian_process import GaussianProcessRegressor as GPR\r\n",
        "from sklearn.gaussian_process.kernels import RBF, ConstantKernel as C\r\n",
        "kernel = C(1.0, (1e-3, 1e3)) * RBF(10, (1e-2, 1e2))\r\n",
        " \r\n",
        "model=GPR(kernel=kernel, n_restarts_optimizer=9, alpha=0.01, normalize_y=True)\r\n",
        " \r\n",
        "#Training\r\n",
        "model.fit(X_train,y_train)\r\n",
        " \r\n",
        "#Testing\r\n",
        "y_star_train = model.predict(X_train)\r\n",
        "y_pred = model.predict(X_test)\r\n",
        " \r\n",
        "#Plots\r\n",
        "plt.figure()\r\n",
        "plt.plot(y_train, y_star_train, 'g.')\r\n",
        "plt.plot([y_star_train.min(), y_star_train.max()], [y_star_train.min(), y_star_train.max()], 'k--')\r\n",
        "plt.ylabel('$y^*_{train}$')\r\n",
        "plt.xlabel('$y_{train}$')\r\n",
        "\r\n",
        "plt.figure()\r\n",
        "plt.plot(y_test, y_pred, 'r*')\r\n",
        "plt.plot([y_pred.min(), y_pred.max()], [y_pred.min(), y_pred.max()], 'k--')\r\n",
        "plt.ylabel('$y^*_{test}$')\r\n",
        "plt.xlabel('$y_{test}$')\r\n",
        " \r\n",
        "from sklearn.metrics import mean_squared_error\r\n",
        "MSE_test = mean_squared_error(y_test, y_pred)\r\n",
        "MSE_train = mean_squared_error(y_train, y_star_train)\r\n",
        " \r\n",
        "print(\"Gaussian Process\")\r\n",
        "print('MSE train:', MSE_train)\r\n",
        "print('MSE test:', MSE_test)\r\n",
        "print(\"MSE train < MSE test?\", MSE_train < MSE_test)\r\n",
        "print()\r\n",
        "from sklearn.metrics import r2_score\r\n",
        "R2_train=r2_score(y_train, y_star_train)\r\n",
        "print('R2_train: ',R2_train)\r\n",
        "R2_test=r2_score(y_test, y_pred)\r\n",
        "print('R2_test: ',R2_test)\r\n",
        "print()\r\n",
        "\"\"\" \r\n",
        "RE=100 * abs(y_test - y_pred) / y_test\r\n",
        "print('Relative error (%): ',RE)\r\n",
        "\"\"\"\r\n",
        "from sklearn.metrics import r2_score\r\n",
        "from sklearn.metrics import mean_absolute_error as MAE \r\n",
        "#METRICS: R2, RMSE, MAE\r\n",
        "R2=r2_score(y_test, y_pred)\r\n",
        "print('R2: ',R2)\r\n",
        "RMSE = np.sqrt(MSE_test)\r\n",
        "print(\"RMSE: \", RMSE)\r\n",
        "MAE = MAE(y_test, y_pred)\r\n",
        "print(\"MAE: \", MAE)\r\n",
        "IM=np.sqrt(((1-R2)**2) + (RMSE**2) + (MAE**2) )\r\n",
        "print(\"IM: \", IM)\r\n",
        "print()"
      ],
      "execution_count": null,
      "outputs": []
    },
    {
      "cell_type": "markdown",
      "metadata": {
        "id": "4kmdzayWwhA9"
      },
      "source": [
        "# SGD"
      ]
    },
    {
      "cell_type": "code",
      "metadata": {
        "id": "6kLJ0SSekfuI"
      },
      "source": [
        "from sklearn.linear_model import SGDRegressor\r\n",
        "\r\n",
        "print(\"-SGD regressor-\")\r\n",
        "#KERNEL\r\n",
        "#SGD=SGDRegressor(random_state=32, max_iter=1000, tol=1e-3, loss='squared_loss', penalty='l2')\r\n",
        "from sklearn.ensemble import RandomForestRegressor\r\n",
        "#KERNEL\r\n",
        "SGD=RandomForestRegressor(n_estimators=500,max_depth=10)\r\n",
        "\r\n",
        "\r\n",
        "#START TRAINING\r\n",
        "SGD.fit(X_train,y_train)\r\n",
        "#PREDICTION\r\n",
        "y_pred=SGD.predict(X_test)\r\n",
        "\r\n",
        "#EVAL\r\n",
        "from sklearn.metrics import mean_squared_error as MSE\r\n",
        "MSE_test = MSE(y_test, y_pred)\r\n",
        "\r\n",
        "print(\"-----------------------------\")\r\n",
        "\r\n",
        "print('MSE test:', MSE_test)\r\n",
        "\r\n",
        "print()\r\n",
        "\r\n",
        "from sklearn.metrics import r2_score\r\n",
        "from sklearn.metrics import mean_absolute_error as MAE \r\n",
        "\r\n",
        "#METRICS: R2, RMSE, MAE\r\n",
        "R2=r2_score(y_test, y_pred)\r\n",
        "print('R2: ',R2)\r\n",
        "RMSE = np.sqrt(MSE_test)\r\n",
        "print(\"RMSE: \", RMSE)\r\n",
        "MAE = MAE(y_test, y_pred)\r\n",
        "print(\"MAE: \", MAE)\r\n",
        "IM=np.sqrt(((1-R2)**2) + (RMSE**2) + (MAE**2) )\r\n",
        "print(\"IM: \", IM)\r\n",
        "print()"
      ],
      "execution_count": null,
      "outputs": []
    },
    {
      "cell_type": "markdown",
      "metadata": {
        "id": "hkMQ_W07zri6"
      },
      "source": [
        "# XGB"
      ]
    },
    {
      "cell_type": "code",
      "metadata": {
        "id": "rLTTuAFyzJeP"
      },
      "source": [
        "import pickle\r\n",
        "import xgboost as xgb\r\n",
        "\r\n",
        "xgbr = xgb.XGBRegressor(verbosity=0)\r\n",
        "xgbr.fit(X_train, y_train)\r\n",
        "y_pred = xgbr.predict(X_test)"
      ],
      "execution_count": null,
      "outputs": []
    },
    {
      "cell_type": "code",
      "metadata": {
        "id": "U12pnMB00Q68"
      },
      "source": [
        "print(xgbr)\r\n",
        "\r\n"
      ],
      "execution_count": null,
      "outputs": []
    },
    {
      "cell_type": "code",
      "metadata": {
        "id": "saBkb2to1tVK"
      },
      "source": [
        "score = xgbr.score(X_test, y_test)  \r\n",
        "print(\"Training score: \", score)"
      ],
      "execution_count": null,
      "outputs": []
    },
    {
      "cell_type": "code",
      "metadata": {
        "id": "P-auJlXw2D8o"
      },
      "source": [
        "print(\"-XGBRegressor -\")\r\n",
        "print(\"------------------\")\r\n",
        "\r\n",
        "#EVAL\r\n",
        "from sklearn.metrics import mean_squared_error as MSE\r\n",
        "MSE_test = MSE(y_test, y_pred)\r\n",
        "\r\n",
        "print('MSE test:', MSE_test)\r\n",
        "\r\n",
        "print()\r\n",
        "\r\n",
        "from sklearn.metrics import r2_score\r\n",
        "from sklearn.metrics import mean_absolute_error as MAE \r\n",
        "\r\n",
        "#METRICS: R2, RMSE, MAE\r\n",
        "R2=r2_score(y_test, y_pred)\r\n",
        "print('R2: ',R2)\r\n",
        "RMSE = np.sqrt(MSE_test)\r\n",
        "print(\"RMSE: \", RMSE)\r\n",
        "MAE = MAE(y_test, y_pred)\r\n",
        "print(\"MAE: \", MAE)\r\n",
        "IM=np.sqrt(((1-R2)**2) + (RMSE**2) + (MAE**2) )\r\n",
        "print(\"IM: \", IM)\r\n",
        "print()"
      ],
      "execution_count": null,
      "outputs": []
    },
    {
      "cell_type": "markdown",
      "metadata": {
        "id": "smbOGfJh2nlc"
      },
      "source": [
        "# AdaBoost"
      ]
    },
    {
      "cell_type": "code",
      "metadata": {
        "id": "EWa5-7zX2VUE"
      },
      "source": [
        "from sklearn.ensemble import AdaBoostRegressor\r\n",
        "\r\n",
        "print(\" AdaBoost -\")\r\n",
        "print(\"------------------\")\r\n",
        "\r\n",
        "Ada = AdaBoostRegressor(random_state=32, n_estimators=100)\r\n",
        "#START TRAINING\r\n",
        "Ada.fit(X_train,y_train)\r\n",
        "#PREDICTION\r\n",
        "y_pred=Ada.predict(X_test)\r\n",
        "\r\n",
        "#EVAL\r\n",
        "from sklearn.metrics import mean_squared_error as MSE\r\n",
        "MSE_test = MSE(y_test, y_pred)\r\n",
        "\r\n",
        "print('MSE test:', MSE_test)\r\n",
        "\r\n",
        "print()\r\n",
        "\r\n",
        "from sklearn.metrics import r2_score\r\n",
        "from sklearn.metrics import mean_absolute_error as MAE \r\n",
        "\r\n",
        "#METRICS: R2, RMSE, MAE\r\n",
        "R2=r2_score(y_test, y_pred)\r\n",
        "print('R2: ',R2)\r\n",
        "RMSE = np.sqrt(MSE_test)\r\n",
        "print(\"RMSE: \", RMSE)\r\n",
        "MAE = MAE(y_test, y_pred)\r\n",
        "print(\"MAE: \", MAE)\r\n",
        "IM=np.sqrt(((1-R2)**2) + (RMSE**2) + (MAE**2) )\r\n",
        "print(\"IM: \", IM)\r\n",
        "print()"
      ],
      "execution_count": null,
      "outputs": []
    },
    {
      "cell_type": "markdown",
      "metadata": {
        "id": "ZOYI1QkauabG"
      },
      "source": [
        "## Comparisson"
      ]
    },
    {
      "cell_type": "code",
      "metadata": {
        "id": "fPy9q6RU3ZF2"
      },
      "source": [
        "models = [GBR, xgbr, Ada, SGD]\r\n",
        "labels = ['GBR', 'SGD', 'XGBR', 'AdaBoost']\r\n",
        "\r\n",
        "fig = plt.figure()\r\n",
        "fig.set_size_inches((9,6))\r\n",
        "\r\n",
        "for mod, label in zip( models, labels): \r\n",
        "  y_pred = mod.predict(X)\r\n",
        "  plt.plot(Y, y_pred, 'o' ,label = label)\r\n",
        "\r\n",
        "plt.plot([y_pred.min(), y_pred.max()], [y_pred.min(), y_pred.max()], 'k--')\r\n",
        "plt.ylabel('$y^*_{test}$')\r\n",
        "plt.xlabel('$y_{test}$')\r\n",
        "plt.legend()  \r\n",
        "  "
      ],
      "execution_count": null,
      "outputs": []
    },
    {
      "cell_type": "code",
      "metadata": {
        "id": "HIEmJUZF69lo"
      },
      "source": [
        ""
      ],
      "execution_count": null,
      "outputs": []
    }
  ]
}